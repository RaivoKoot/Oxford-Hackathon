{
 "cells": [
  {
   "cell_type": "code",
   "execution_count": 4,
   "metadata": {},
   "outputs": [],
   "source": [
    "from azure.cognitiveservices.vision.customvision.training import CustomVisionTrainingClient\n",
    "from azure.cognitiveservices.vision.customvision.training.models import ImageUrlCreateEntry\n",
    "\n",
    "ENDPOINT = \"https://southcentralus.api.cognitive.microsoft.com\"\n",
    "\n",
    "# Replace with a valid key\n",
    "training_key = \"0ce3b236d6894639905fb6078708f236\"\n",
    "prediction_key = \"57c2350f261b4cf0aec943bcf893e2d8\"\n",
    "\n",
    "trainer = CustomVisionTrainingClient(training_key, endpoint=ENDPOINT)\n",
    "\n",
    "# Create a new project\n",
    "#print (\"Creating project...\")\n",
    "#project = trainer.create_project(\"RateRoomsBalancedSamples\")\n",
    "\n",
    "project_id = '40412ce6-fe45-4fc2-b949-9bb6fe28abf2'"
   ]
  },
  {
   "cell_type": "code",
   "execution_count": 2,
   "metadata": {},
   "outputs": [
    {
     "data": {
      "text/plain": [
       "<azure.cognitiveservices.vision.customvision.training.models.tag_py3.Tag at 0x18dfbb04a90>"
      ]
     },
     "execution_count": 2,
     "metadata": {},
     "output_type": "execute_result"
    }
   ],
   "source": [
    "# Make all tags in the new project. ONLY DO THIS ONCE\n",
    "trainer.create_tag(project.id, \"very low\")\n",
    "trainer.create_tag(project.id, \"low\")\n",
    "trainer.create_tag(project.id, \"average\")\n",
    "trainer.create_tag(project.id, \"high\")\n",
    "trainer.create_tag(project.id, \"very high\")"
   ]
  },
  {
   "cell_type": "code",
   "execution_count": 5,
   "metadata": {},
   "outputs": [
    {
     "data": {
      "text/plain": [
       "[<azure.cognitiveservices.vision.customvision.training.models.tag_py3.Tag at 0x18dfbb04518>,\n",
       " <azure.cognitiveservices.vision.customvision.training.models.tag_py3.Tag at 0x18dfbb09978>,\n",
       " <azure.cognitiveservices.vision.customvision.training.models.tag_py3.Tag at 0x18dfbb095f8>,\n",
       " <azure.cognitiveservices.vision.customvision.training.models.tag_py3.Tag at 0x18dfbb09470>,\n",
       " <azure.cognitiveservices.vision.customvision.training.models.tag_py3.Tag at 0x18dfbb09438>]"
      ]
     },
     "execution_count": 5,
     "metadata": {},
     "output_type": "execute_result"
    }
   ],
   "source": [
    "trainer.get_tags(project_id)"
   ]
  },
  {
   "cell_type": "code",
   "execution_count": 6,
   "metadata": {},
   "outputs": [],
   "source": [
    "# tag ids gotten from https://southcentralus.dev.cognitive.microsoft.com/docs/services/Custom_Vision_Training_2.2/operations/5b63704940d86a0fb87aab50/console\n",
    "very_low_tag = \"3174baf0-60d1-45fc-abd9-a206bc0c7bfd\"\n",
    "low_tag = \"acae4915-0bec-408b-9248-079afb6b13c3\"\n",
    "average_tag = \"9ac3099b-055a-4162-9a70-0eeeb0711050\"\n",
    "high_tag = \"80423186-8716-4d05-93f2-09d4b666bd1e\"\n",
    "very_high_tag = \"7ebd69b5-03fd-45b9-aa00-dea002e41777\""
   ]
  },
  {
   "cell_type": "code",
   "execution_count": 9,
   "metadata": {},
   "outputs": [
    {
     "name": "stdout",
     "output_type": "stream",
     "text": [
      "['average' 'high' 'low' 'very low' 'very high']\n"
     ]
    }
   ],
   "source": [
    "#\n",
    "# load all data into python \n",
    "#\n",
    "\n",
    "import pandas as pd\n",
    "\n",
    "# load img urls and labels into two separate lists\n",
    "dirty_data = open('pretty.json','r')\n",
    "\n",
    "fileNames = []\n",
    "labels = []\n",
    "\n",
    "# limit the number of high and avg samples so\n",
    "# there wont be too many of them\n",
    "avg_count = 0\n",
    "high_count = 0\n",
    "MAX_COUNT = 1400\n",
    "\n",
    "\n",
    "for line in dirty_data:\n",
    "    \n",
    "    # every lin in file is a json containing a single sample\n",
    "    dataSample = pd.read_json(line)\n",
    "    try:\n",
    "        url = dataSample.content[0]\n",
    "        label = dataSample.annotation.labels[0]\n",
    "        \n",
    "    # skip sample if label is missing\n",
    "    except IndexError:\n",
    "        continue\n",
    "        \n",
    "    if(label == 'average'):\n",
    "        if(avg_count > MAX_COUNT):\n",
    "            continue\n",
    "        avg_count +=1\n",
    "        \n",
    "    elif(label =='high'):\n",
    "        if(high_count > MAX_COUNT):\n",
    "            continue\n",
    "        high_count +=1\n",
    "    \n",
    "    fileNames.append(url)\n",
    "    labels.append(label)\n",
    "    \n",
    "# convert to dataframe and make sure the labeling is correct\n",
    "dataRaw = {'url':fileNames, 'label': labels}\n",
    "data = pd.DataFrame(dataRaw)\n",
    "print(data.label.unique())"
   ]
  },
  {
   "cell_type": "code",
   "execution_count": 10,
   "metadata": {},
   "outputs": [
    {
     "name": "stdout",
     "output_type": "stream",
     "text": [
      "(4306, 2)\n"
     ]
    },
    {
     "data": {
      "text/plain": [
       "low          1410\n",
       "high         1401\n",
       "average      1401\n",
       "very high      59\n",
       "very low       35\n",
       "Name: label, dtype: int64"
      ]
     },
     "execution_count": 10,
     "metadata": {},
     "output_type": "execute_result"
    }
   ],
   "source": [
    "# verify shape and integrity of data\n",
    "print(data.shape)\n",
    "data.isna().sum()\n",
    "data['label'].value_counts()"
   ]
  },
  {
   "cell_type": "code",
   "execution_count": 11,
   "metadata": {},
   "outputs": [
    {
     "name": "stdout",
     "output_type": "stream",
     "text": [
      "4306\n"
     ]
    }
   ],
   "source": [
    "label_ids = []\n",
    "\n",
    "# convert label words into label ids as needed by customVision API\n",
    "for label in labels:\n",
    "    if label == 'very low':\n",
    "        label_ids.append(very_low_tag)\n",
    "    elif label == 'low':\n",
    "        label_ids.append(low_tag)\n",
    "    elif label == 'average':\n",
    "        label_ids.append(average_tag)\n",
    "    elif label == 'high':\n",
    "        label_ids.append(high_tag)\n",
    "    elif label == 'very high':\n",
    "        label_ids.append(very_high_tag)\n",
    "    else:\n",
    "        print(label)\n",
    "        \n",
    "# verify integrity\n",
    "print(len(label_ids))"
   ]
  },
  {
   "cell_type": "code",
   "execution_count": 13,
   "metadata": {},
   "outputs": [
    {
     "name": "stdout",
     "output_type": "stream",
     "text": [
      "Adding images...\n",
      "Batch 64uploaded\n",
      "Batch 128uploaded\n",
      "Batch 192uploaded\n",
      "Batch 256uploaded\n",
      "Batch 320uploaded\n",
      "Batch 384uploaded\n",
      "Batch 448uploaded\n",
      "Batch 512uploaded\n",
      "Batch 576uploaded\n",
      "Batch 640uploaded\n",
      "Batch 704uploaded\n",
      "Batch 768uploaded\n",
      "Batch 832uploaded\n",
      "Batch 896uploaded\n",
      "Batch 960uploaded\n",
      "Batch 1024uploaded\n",
      "Batch 1088uploaded\n",
      "Batch 1152uploaded\n",
      "Batch 1216uploaded\n",
      "Batch 1280uploaded\n",
      "Batch 1344uploaded\n",
      "Batch 1408uploaded\n",
      "Batch 1472uploaded\n",
      "Batch 1536uploaded\n",
      "Batch 1600uploaded\n",
      "Batch 1664uploaded\n",
      "Batch 1728uploaded\n",
      "Batch 1792uploaded\n",
      "Batch 1856uploaded\n",
      "Batch 1920uploaded\n",
      "Batch 1984uploaded\n",
      "Batch 2048uploaded\n",
      "Batch 2112uploaded\n",
      "Batch 2176uploaded\n",
      "Batch 2240uploaded\n",
      "Batch 2304uploaded\n",
      "Batch 2368uploaded\n",
      "Batch 2432uploaded\n",
      "Batch 2496uploaded\n",
      "Batch 2560uploaded\n",
      "Batch 2624uploaded\n",
      "Batch 2688uploaded\n",
      "Batch 2752uploaded\n",
      "Batch 2816uploaded\n",
      "Batch 2880uploaded\n",
      "Batch 2944uploaded\n",
      "Batch 3008uploaded\n",
      "Batch 3072uploaded\n",
      "Batch 3136uploaded\n",
      "Batch 3200uploaded\n",
      "Batch 3264uploaded\n",
      "Batch 3328uploaded\n",
      "Batch 3392uploaded\n",
      "Batch 3456uploaded\n",
      "Batch 3520uploaded\n",
      "Batch 3584uploaded\n",
      "Batch 3648uploaded\n",
      "Batch 3712uploaded\n",
      "Batch 3776uploaded\n",
      "Batch 3840uploaded\n",
      "Batch 3904uploaded\n",
      "Batch 3968uploaded\n",
      "Batch 4032uploaded\n",
      "Batch 4096uploaded\n",
      "Batch 4160uploaded\n",
      "Batch 4224uploaded\n",
      "Batch 4288uploaded\n"
     ]
    }
   ],
   "source": [
    "#base_image_url = \"https://adacloud.blob.core.windows.net/rails/uploads/photo/file/\"\n",
    "\n",
    "num_files = len(fileNames)\n",
    "index = 0\n",
    "\n",
    "\n",
    "print (\"Adding images...\")\n",
    "\n",
    "# batch of samples to upload to project. Maximum size 64\n",
    "# uploads once lists size is 64 and then \n",
    "images = []\n",
    "\n",
    "# run through every file\n",
    "while index < num_files:\n",
    "    \n",
    "    #batch has reached a max size of 64\n",
    "    if(len(images) % 64 == 0 and len(images) != 0):\n",
    "        trainer.create_images_from_urls(project_id, images=images) # upload batch\n",
    "        print('Batch ' + str(index) + 'uploaded')\n",
    "        images = [] # empty batch again\n",
    "        \n",
    "\n",
    "    # create new batch sample\n",
    "    image = ImageUrlCreateEntry(url= fileNames[index], tag_ids=[label_ids[index]] )\n",
    "    images.append(image) # add sample to batch\n",
    "    index += 1\n",
    "\n",
    "# upload leftover batch that is not full yet\n",
    "if(len(images) != 0):\n",
    "    trainer.create_images_from_urls(project_id, images=images)"
   ]
  },
  {
   "cell_type": "code",
   "execution_count": 24,
   "metadata": {},
   "outputs": [
    {
     "data": {
      "text/plain": [
       "<azure.cognitiveservices.vision.customvision.training.models.image_create_summary_py3.ImageCreateSummary at 0x18dfce985f8>"
      ]
     },
     "execution_count": 24,
     "metadata": {},
     "output_type": "execute_result"
    }
   ],
   "source": [
    "# This has no use\n",
    "# Attempted to upload local files but did not use\n",
    "from azure.cognitiveservices.vision.customvision.training.models import ImageFileCreateEntry\n",
    "\n",
    "images = []\n",
    "\n",
    "image = ImageFileCreateEntry(name='test.jpg', tag_ids=['3174baf0-60d1-45fc-abd9-a206bc0c7bfd'])\n",
    "images.append(image)\n",
    "trainer.create_images_from_files(project_id, images=images)\n"
   ]
  },
  {
   "cell_type": "code",
   "execution_count": null,
   "metadata": {},
   "outputs": [],
   "source": []
  }
 ],
 "metadata": {
  "kernelspec": {
   "display_name": "Python 3",
   "language": "python",
   "name": "python3"
  },
  "language_info": {
   "codemirror_mode": {
    "name": "ipython",
    "version": 3
   },
   "file_extension": ".py",
   "mimetype": "text/x-python",
   "name": "python",
   "nbconvert_exporter": "python",
   "pygments_lexer": "ipython3",
   "version": "3.7.0"
  },
  "varInspector": {
   "cols": {
    "lenName": 16,
    "lenType": 16,
    "lenVar": 40
   },
   "kernels_config": {
    "python": {
     "delete_cmd_postfix": "",
     "delete_cmd_prefix": "del ",
     "library": "var_list.py",
     "varRefreshCmd": "print(var_dic_list())"
    },
    "r": {
     "delete_cmd_postfix": ") ",
     "delete_cmd_prefix": "rm(",
     "library": "var_list.r",
     "varRefreshCmd": "cat(var_dic_list()) "
    }
   },
   "position": {
    "height": "247.5px",
    "left": "1130px",
    "right": "20px",
    "top": "120px",
    "width": "361px"
   },
   "types_to_exclude": [
    "module",
    "function",
    "builtin_function_or_method",
    "instance",
    "_Feature"
   ],
   "window_display": true
  }
 },
 "nbformat": 4,
 "nbformat_minor": 2
}
